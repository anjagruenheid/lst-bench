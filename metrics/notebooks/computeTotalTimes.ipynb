{
 "cells": [
  {
   "cell_type": "code",
   "execution_count": null,
   "metadata": {},
   "outputs": [],
   "source": [
    "import duckdb\n",
    "import matplotlib.pyplot as plt\n",
    "import os\n",
    "import pandas as pd\n",
    "import seaborn as sns\n",
    "import sys\n",
    "\n",
    "directory_path = os.path.abspath(os.path.join('../utils/'))\n",
    "if directory_path not in sys.path:\n",
    "    sys.path.append(directory_path)\n",
    "from functions import *\n",
    "from constant import *\n",
    "\n",
    "# Experiment parameters, need to be set before running this notebook.\n",
    "EXPERIMENT_ID = [\"spark_del_sf_1000\", \"spark_ib_cow_w3m_sf_1000\", \"spark_ib_mor_w3m_sf_1000\",\"spark_ib_cow_w3_sf_1000\"]  \n",
    "EXPERIMENT_START_TIME = [\"2023-06-29T14:39:03.335772Z\", \"2023-06-30T17:40:51.588244Z\", \"2023-07-01T19:34:38.242127Z\",\"2023-07-04T10:07:29.985447Z\"]"
   ]
  },
  {
   "cell_type": "code",
   "execution_count": null,
   "metadata": {},
   "outputs": [],
   "source": [
    "# --- Check input validity and create DB connection --- #\n",
    "assert len(EXPERIMENT_ID)==len(EXPERIMENT_START_TIME)\n",
    "\n",
    "# Connect to database.\n",
    "con = duckdb.connect(database=DUCKDB_PATH, read_only=True)"
   ]
  },
  {
   "cell_type": "code",
   "execution_count": null,
   "metadata": {},
   "outputs": [],
   "source": [
    "# Compute phase time.\n",
    "EXP_DATA = pd.DataFrame()\n",
    "for idx, id in enumerate(EXPERIMENT_ID):\n",
    "    exp_df = retrieve_event_df(con, id, EXPERIMENT_START_TIME[idx])\n",
    "    exp_df[\"exp_name\"] = id\n",
    "    EXP_DATA = pd.concat([EXP_DATA, exp_df])\n",
    "    \n",
    "EXP_DATA = filterByEventType(EXP_DATA, \"EXEC_PHASE\")\n",
    "# Calculate latency for each element.\n",
    "EXP_DATA['time_diff_in_mins'] = EXP_DATA.apply(lambda x: time_diff_in_minutes(x['event_start_time'], x['event_end_time']), axis=1)\n",
    "\n",
    "EXP_DATA.groupby(['exp_name'])['time_diff_in_mins'].sum().reset_index()"
   ]
  },
  {
   "cell_type": "code",
   "execution_count": null,
   "metadata": {},
   "outputs": [],
   "source": [
    "# Compute statement time.\n",
    "EXP_DATA = pd.DataFrame()\n",
    "for idx, id in enumerate(EXPERIMENT_ID):\n",
    "    exp_df = retrieve_event_df(con, id, EXPERIMENT_START_TIME[idx])\n",
    "    exp_df[\"exp_name\"] = id\n",
    "    EXP_DATA = pd.concat([EXP_DATA, exp_df])\n",
    "    \n",
    "EXP_DATA = filterByEventType(EXP_DATA, \"EXEC_STATEMENT\")\n",
    "# Calculate latency for each element.\n",
    "EXP_DATA['time_diff_in_mins'] = EXP_DATA.apply(lambda x: time_diff_in_minutes(x['event_start_time'], x['event_end_time']), axis=1)\n",
    "\n",
    "EXP_DATA.groupby(['exp_name'])['time_diff_in_mins'].sum().reset_index()"
   ]
  }
 ],
 "metadata": {
  "kernelspec": {
   "display_name": "Python 3",
   "language": "python",
   "name": "python3"
  },
  "language_info": {
   "codemirror_mode": {
    "name": "ipython",
    "version": 3
   },
   "file_extension": ".py",
   "mimetype": "text/x-python",
   "name": "python",
   "nbconvert_exporter": "python",
   "pygments_lexer": "ipython3",
   "version": "3.9.16"
  },
  "orig_nbformat": 4
 },
 "nbformat": 4,
 "nbformat_minor": 2
}
